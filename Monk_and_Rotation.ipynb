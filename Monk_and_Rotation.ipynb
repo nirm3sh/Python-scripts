{
  "nbformat": 4,
  "nbformat_minor": 0,
  "metadata": {
    "colab": {
      "provenance": [],
      "authorship_tag": "ABX9TyN2LcOvrnKfSukWNmCW6arm",
      "include_colab_link": true
    },
    "kernelspec": {
      "name": "python3",
      "display_name": "Python 3"
    },
    "language_info": {
      "name": "python"
    }
  },
  "cells": [
    {
      "cell_type": "markdown",
      "metadata": {
        "id": "view-in-github",
        "colab_type": "text"
      },
      "source": [
        "<a href=\"https://colab.research.google.com/github/nirm3sh/Python-scripts/blob/master/Monk_and_Rotation.ipynb\" target=\"_parent\"><img src=\"https://colab.research.google.com/assets/colab-badge.svg\" alt=\"Open In Colab\"/></a>"
      ]
    },
    {
      "cell_type": "code",
      "execution_count": 3,
      "metadata": {
        "id": "72hwcPKRTgVz"
      },
      "outputs": [],
      "source": [
        "N = 5"
      ]
    },
    {
      "cell_type": "code",
      "source": [
        "K = 2"
      ],
      "metadata": {
        "id": "Bz2pNZhzUGGQ"
      },
      "execution_count": 1,
      "outputs": []
    },
    {
      "cell_type": "code",
      "source": [
        "A = ['1', '2', '3', '4', '5']\n",
        "B = []"
      ],
      "metadata": {
        "id": "iJqc_ob_X5Kr"
      },
      "execution_count": 5,
      "outputs": []
    },
    {
      "cell_type": "code",
      "source": [
        "for i in range(N):\n",
        "  B.insert(int((i+K)%N), A[i])"
      ],
      "metadata": {
        "id": "oKohHFNVYkQe"
      },
      "execution_count": 13,
      "outputs": []
    },
    {
      "cell_type": "code",
      "source": [
        "print(\" \".join(B))"
      ],
      "metadata": {
        "colab": {
          "base_uri": "https://localhost:8080/"
        },
        "id": "4b-2j4UCaKFV",
        "outputId": "f15b52c5-b7a0-4db6-cd47-748b3d66a15c"
      },
      "execution_count": 16,
      "outputs": [
        {
          "output_type": "stream",
          "name": "stdout",
          "text": [
            "4 5 1 2 3\n"
          ]
        }
      ]
    }
  ]
}