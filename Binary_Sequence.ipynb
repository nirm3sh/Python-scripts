{
  "nbformat": 4,
  "nbformat_minor": 0,
  "metadata": {
    "colab": {
      "provenance": [],
      "authorship_tag": "ABX9TyMfmMJoE3qe2XzmCZfnMe22",
      "include_colab_link": true
    },
    "kernelspec": {
      "name": "python3",
      "display_name": "Python 3"
    },
    "language_info": {
      "name": "python"
    }
  },
  "cells": [
    {
      "cell_type": "markdown",
      "metadata": {
        "id": "view-in-github",
        "colab_type": "text"
      },
      "source": [
        "<a href=\"https://colab.research.google.com/github/nirm3sh/Python-scripts/blob/master/Binary_Sequence.ipynb\" target=\"_parent\"><img src=\"https://colab.research.google.com/assets/colab-badge.svg\" alt=\"Open In Colab\"/></a>"
      ]
    },
    {
      "cell_type": "code",
      "execution_count": null,
      "metadata": {
        "id": "k9N_IhNqqYLv"
      },
      "outputs": [],
      "source": [
        "import itertools\n",
        "from itertools import combinations\n",
        "from itertools import permutations\n",
        "from collections import Counter"
      ]
    },
    {
      "cell_type": "code",
      "source": [
        "def validate_inputs(x):\n",
        "    try:\n",
        "        x = int(x)\n",
        "    except ValueError:\n",
        "        pass\n",
        "    if (type(x) == int) and (1<=int(x)<=(10^5)):\n",
        "        return True\n",
        "    else:\n",
        "        return False"
      ],
      "metadata": {
        "id": "QVHM2RxEqcE3"
      },
      "execution_count": null,
      "outputs": []
    },
    {
      "cell_type": "code",
      "source": [
        "def find_subsequences(string, subseq):\n",
        "    updated_string = string.translate({ord(x): '' for x in list(set(string)-set(subseq))})\n",
        "    all_combinations = list(combinations(updated_string, len(subseq)))\n",
        "    all_combinations = [''.join(each_combination) for each_combination in all_combinations]\n",
        "    counter_obj = dict(Counter(all_combinations))\n",
        "    try:\n",
        "        return int(counter_obj[subseq])\n",
        "    except KeyError:\n",
        "        return 0"
      ],
      "metadata": {
        "id": "9y57-O5uU0O-"
      },
      "execution_count": null,
      "outputs": []
    },
    {
      "cell_type": "code",
      "source": [
        "def main():\n",
        "    test_cases = input()                  # Reading the number of test cases T\n",
        "    if (validate_inputs(test_cases)):\n",
        "        for i in range(int(test_cases)):\n",
        "            test_case = input()\n",
        "            x, y, a, b = test_case.split()\n",
        "            all_x = \"0\" * int(x)\n",
        "            all_y = \"1\" * int(y)\n",
        "            full_string = str(all_x) + str(all_y)\n",
        "            #print(full_string)\n",
        "            all_combinations = list(permutations(full_string))\n",
        "            match_success = False\n",
        "            for tup in all_combinations:\n",
        "                test_perm = \"\".join(tup)\n",
        "                #len_string = len(test_perm)\n",
        "                #print(test_perm)\n",
        "                var1 = find_subsequences(test_perm, \"01\")\n",
        "                var2 = find_subsequences(test_perm, \"10\")\n",
        "                #print(var1, var2)\n",
        "                if var1==int(a) and var2==int(b):\n",
        "                    match_success = True\n",
        "                    print(\"Yes\")\n",
        "                    break;\n",
        "                else:\n",
        "                    pass\n",
        "            if not match_success:\n",
        "                print(\"No\")\n",
        "    else:\n",
        "        print(\"Input is not valid\")\n",
        "\n",
        "\n",
        "if __name__==\"__main__\":\n",
        "    main()"
      ],
      "metadata": {
        "id": "yOtUD9z3U0as"
      },
      "execution_count": null,
      "outputs": []
    }
  ]
}