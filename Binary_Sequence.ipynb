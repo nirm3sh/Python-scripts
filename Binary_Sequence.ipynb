{
  "nbformat": 4,
  "nbformat_minor": 0,
  "metadata": {
    "colab": {
      "provenance": [],
      "authorship_tag": "ABX9TyN3KoaG2J2mzhPMAt0Ji3aB",
      "include_colab_link": true
    },
    "kernelspec": {
      "name": "python3",
      "display_name": "Python 3"
    },
    "language_info": {
      "name": "python"
    }
  },
  "cells": [
    {
      "cell_type": "markdown",
      "metadata": {
        "id": "view-in-github",
        "colab_type": "text"
      },
      "source": [
        "<a href=\"https://colab.research.google.com/github/nirm3sh/Python-scripts/blob/master/Binary_Sequence.ipynb\" target=\"_parent\"><img src=\"https://colab.research.google.com/assets/colab-badge.svg\" alt=\"Open In Colab\"/></a>"
      ]
    },
    {
      "cell_type": "code",
      "execution_count": null,
      "metadata": {
        "id": "k9N_IhNqqYLv"
      },
      "outputs": [],
      "source": [
        "def find_subsequences(string, subseq):\n",
        "    #drop_char_list = list(set(string)-set(subseq))\n",
        "    updated_string = string.translate({ord(x): '' for x in list(set(string)-set(subseq))})\n",
        "    all_combinations = list(combinations(updated_string, len(subseq)))\n",
        "    all_combinations = [''.join(each_combination) for each_combination in all_combinations]\n",
        "    counter_obj = dict(Counter(all_combinations))\n",
        "    return int(counter_obj[subseq])"
      ]
    },
    {
      "cell_type": "code",
      "source": [
        "string = '1234565432'\n",
        "subseq = '13'"
      ],
      "metadata": {
        "id": "QVHM2RxEqcE3"
      },
      "execution_count": null,
      "outputs": []
    }
  ]
}