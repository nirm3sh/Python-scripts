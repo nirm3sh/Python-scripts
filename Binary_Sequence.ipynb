{
  "nbformat": 4,
  "nbformat_minor": 0,
  "metadata": {
    "colab": {
      "provenance": [],
      "authorship_tag": "ABX9TyNcMaqNFm9vSci9cTCcRpZQ",
      "include_colab_link": true
    },
    "kernelspec": {
      "name": "python3",
      "display_name": "Python 3"
    },
    "language_info": {
      "name": "python"
    }
  },
  "cells": [
    {
      "cell_type": "markdown",
      "metadata": {
        "id": "view-in-github",
        "colab_type": "text"
      },
      "source": [
        "<a href=\"https://colab.research.google.com/github/nirm3sh/Python-scripts/blob/master/Binary_Sequence.ipynb\" target=\"_parent\"><img src=\"https://colab.research.google.com/assets/colab-badge.svg\" alt=\"Open In Colab\"/></a>"
      ]
    },
    {
      "cell_type": "code",
      "execution_count": null,
      "metadata": {
        "id": "k9N_IhNqqYLv"
      },
      "outputs": [],
      "source": [
        "def find_subsequences(string, subseq):\n",
        "    #drop_char_list = list(set(string)-set(subseq))\n",
        "    updated_string = string.translate({ord(x): '' for x in list(set(string)-set(subseq))})\n",
        "    all_combinations = list(combinations(updated_string, len(subseq)))\n",
        "    all_combinations = [''.join(each_combination) for each_combination in all_combinations]\n",
        "    counter_obj = dict(Counter(all_combinations))\n",
        "    return int(counter_obj[subseq])"
      ]
    },
    {
      "cell_type": "code",
      "source": [
        "string = '1234565432'\n",
        "subseq = '13'"
      ],
      "metadata": {
        "id": "QVHM2RxEqcE3"
      },
      "execution_count": null,
      "outputs": []
    },
    {
      "cell_type": "code",
      "source": [
        "list(set(string)-set(subseq))"
      ],
      "metadata": {
        "colab": {
          "base_uri": "https://localhost:8080/"
        },
        "id": "SpXddyfNqlVV",
        "outputId": "b078ed95-7599-4ab7-c25c-493ac7b76d0e"
      },
      "execution_count": null,
      "outputs": [
        {
          "output_type": "execute_result",
          "data": {
            "text/plain": [
              "['4', '6', '5', '2']"
            ]
          },
          "metadata": {},
          "execution_count": 3
        }
      ]
    },
    {
      "cell_type": "code",
      "source": [
        "updated_string = string.translate({ord(x): '' for x in list(set(string)-set(subseq))})\n",
        "str_len = len(subseq)"
      ],
      "metadata": {
        "id": "L05dgGC5qn2k"
      },
      "execution_count": null,
      "outputs": []
    },
    {
      "cell_type": "code",
      "source": [
        "updated_string_len=len(updated_string)"
      ],
      "metadata": {
        "id": "kDxWpq3Nqwx8"
      },
      "execution_count": null,
      "outputs": []
    },
    {
      "cell_type": "code",
      "source": [
        "from itertools import combinations"
      ],
      "metadata": {
        "id": "l9HXKDLlsX94"
      },
      "execution_count": null,
      "outputs": []
    },
    {
      "cell_type": "code",
      "source": [
        "all_combinations = list(combinations(updated_string, str_len))"
      ],
      "metadata": {
        "id": "QLztTeaissns"
      },
      "execution_count": null,
      "outputs": []
    },
    {
      "cell_type": "code",
      "source": [
        "all_combinations"
      ],
      "metadata": {
        "colab": {
          "base_uri": "https://localhost:8080/"
        },
        "id": "NLOAzGGCt15R",
        "outputId": "d790c43c-2c39-4606-918a-079a01c87597"
      },
      "execution_count": null,
      "outputs": [
        {
          "output_type": "execute_result",
          "data": {
            "text/plain": [
              "['13', '13', '33']"
            ]
          },
          "metadata": {},
          "execution_count": 42
        }
      ]
    },
    {
      "cell_type": "code",
      "source": [
        "from collections import Counter"
      ],
      "metadata": {
        "id": "4ppieC-mt20j"
      },
      "execution_count": null,
      "outputs": []
    },
    {
      "cell_type": "code",
      "source": [
        "all_combinations = [''.join(each_combination) for each_combination in all_combinations]"
      ],
      "metadata": {
        "id": "8hbZvgiavZvt"
      },
      "execution_count": null,
      "outputs": []
    },
    {
      "cell_type": "code",
      "source": [],
      "metadata": {
        "id": "1PMvClEYva24"
      },
      "execution_count": null,
      "outputs": []
    },
    {
      "cell_type": "code",
      "source": [
        "counter_obj = dict(Counter(all_combinations))"
      ],
      "metadata": {
        "id": "PPlGSQ2xt6-4"
      },
      "execution_count": null,
      "outputs": []
    },
    {
      "cell_type": "code",
      "source": [
        "counter_obj"
      ],
      "metadata": {
        "colab": {
          "base_uri": "https://localhost:8080/"
        },
        "id": "SNTgGxMFuwxq",
        "outputId": "15a18359-5961-491f-82eb-6f4e18109c31"
      },
      "execution_count": null,
      "outputs": [
        {
          "output_type": "execute_result",
          "data": {
            "text/plain": [
              "{'13': 2, '33': 1}"
            ]
          },
          "metadata": {},
          "execution_count": 51
        }
      ]
    },
    {
      "cell_type": "code",
      "source": [
        "counter_obj[subseq]"
      ],
      "metadata": {
        "colab": {
          "base_uri": "https://localhost:8080/"
        },
        "id": "-tDz6t_Xux76",
        "outputId": "fde30137-9b47-44d0-e100-a1e566af4bd3"
      },
      "execution_count": null,
      "outputs": [
        {
          "output_type": "execute_result",
          "data": {
            "text/plain": [
              "2"
            ]
          },
          "metadata": {},
          "execution_count": 52
        }
      ]
    },
    {
      "cell_type": "code",
      "source": [
        "#NEW CODE NOW"
      ],
      "metadata": {
        "id": "xPEbqdyJxnwc"
      },
      "execution_count": null,
      "outputs": []
    },
    {
      "cell_type": "code",
      "source": [
        "# Need to apply restrictions to numbers"
      ],
      "metadata": {
        "id": "tn_Mh4QhzXSt"
      },
      "execution_count": null,
      "outputs": []
    }
  ]
}